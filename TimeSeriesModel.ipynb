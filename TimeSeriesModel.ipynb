{
 "cells": [
  {
   "cell_type": "markdown",
   "id": "250d3484",
   "metadata": {},
   "source": [
    "**S14A - Final Project - Global Heat Prediction**\n",
    "\n",
    "\n",
    "***Time-Series Model***\n",
    "\n",
    "\n",
    "\n"
   ]
  },
  {
   "cell_type": "code",
   "execution_count": 1,
   "id": "8b4a1390",
   "metadata": {},
   "outputs": [],
   "source": [
    "import pandas as pd\n",
    "import numpy as np\n",
    "import matplotlib.pyplot as plt\n",
    "import plotly.express as px\n",
    "import plotly.graph_objects as go\n",
    "from plotly.subplots import make_subplots\n",
    "from plotly.offline import plot\n",
    "import plotly.subplots as sp\n",
    "import datetime"
   ]
  },
  {
   "cell_type": "code",
   "execution_count": 2,
   "id": "54dcfab9",
   "metadata": {
    "scrolled": true
   },
   "outputs": [],
   "source": [
    "df = pd.read_csv(\"HeatDataforML.csv\")\n",
    "# df['year'] = pd.to_datetime(df['year'], format='%Y')\n",
    "# df['activity_group'].value_counts()"
   ]
  },
  {
   "cell_type": "code",
   "execution_count": 3,
   "id": "4ad907cd",
   "metadata": {},
   "outputs": [],
   "source": [
    "# df['country'].value_counts()\n",
    "# df.set_index=('year')\n",
    "# df"
   ]
  },
  {
   "cell_type": "code",
   "execution_count": 4,
   "id": "938d58d9",
   "metadata": {},
   "outputs": [],
   "source": [
    "# us = df[df[\"country\"] == 'United States']\n",
    "# be = df[df[\"country\"] == 'Belgium']\n",
    "# ru = df[df[\"country\"] == 'Russian Federation']\n",
    "# ja = df[df[\"country\"] == 'Japan']"
   ]
  },
  {
   "cell_type": "code",
   "execution_count": 5,
   "id": "22b7f2e9",
   "metadata": {},
   "outputs": [],
   "source": [
    "# px.line(us, x = 'year', y ='quantity', color='activity_group', line_dash = \"activity_group\",\n",
    "#         hover_name='country', title = \"United States\")"
   ]
  },
  {
   "cell_type": "code",
   "execution_count": 6,
   "id": "f41cbd7c",
   "metadata": {},
   "outputs": [],
   "source": [
    "# px.line(be, x = 'year', y ='quantity', color='activity_group', line_dash = \"activity_group\",\n",
    "#         hover_name='country', title = \"Belgium\")\n"
   ]
  },
  {
   "cell_type": "code",
   "execution_count": 7,
   "id": "0a8e30f6",
   "metadata": {},
   "outputs": [],
   "source": [
    "# px.line(ru, x = 'year', y ='quantity', color='activity_group', line_dash = \"activity_group\",\n",
    "#         hover_name='country', title = \"Russian\")"
   ]
  },
  {
   "cell_type": "code",
   "execution_count": 8,
   "id": "bd79d593",
   "metadata": {},
   "outputs": [],
   "source": [
    "# px.line(ja, x = 'year', y ='quantity', color='activity_group', line_dash = \"activity_group\",\n",
    "#         hover_name='country', title = \"Japan\")"
   ]
  },
  {
   "cell_type": "markdown",
   "id": "fbc32088",
   "metadata": {},
   "source": [
    "**Recurrent Neural Network to predict Timeseries**"
   ]
  },
  {
   "cell_type": "code",
   "execution_count": 9,
   "id": "3ad9215e",
   "metadata": {},
   "outputs": [],
   "source": [
    "### SEPERATE DATA FOR MODELS"
   ]
  },
  {
   "cell_type": "code",
   "execution_count": 10,
   "id": "29253351",
   "metadata": {},
   "outputs": [],
   "source": [
    "# us = df[df[\"country\"] == 'United States']\n",
    "# be = df[df[\"country\"] == 'Belgium'] \n",
    "# ru = df[df[\"country\"] == 'Russian Federation']\n",
    "# ja = df[df[\"country\"] == 'Japan']"
   ]
  },
  {
   "cell_type": "code",
   "execution_count": 11,
   "id": "9285719b",
   "metadata": {},
   "outputs": [],
   "source": [
    "# df[(df[\"country\"] == 'United States') & (df[\"activity_group\"] == 'consumption')].iloc[:,-1]"
   ]
  },
  {
   "cell_type": "code",
   "execution_count": 12,
   "id": "e052d59f",
   "metadata": {},
   "outputs": [],
   "source": [
    "# us_consump = pd.DataFrame(df[(df[\"country\"] == 'United States') & (df[\"activity_group\"] == 'consumption')].loc[:,['year','quantity']])\n",
    "# us_fuel = df[(df[\"country\"] == 'United States') & (df[\"activity_group\"] == 'combustible_fuel')].iloc[:,-1]\n",
    "# us_energy = df[(df[\"country\"] == 'United States') & (df[\"activity_group\"] == 'energy')].iloc[:,-1]\n",
    "# us_ownuse = df[(df[\"country\"] == 'United States') & (df[\"activity_group\"] == 'ownuse')].iloc[:,-1]\n",
    "\n",
    "# X_train = pd.DataFrame(df[(df[\"country\"] == 'United States') & (df[\"activity_group\"] == 'consumption')].loc[:,['year','quantity']]).set_index('year')\n",
    "# X_train"
   ]
  },
  {
   "cell_type": "code",
   "execution_count": 13,
   "id": "0495d65f",
   "metadata": {},
   "outputs": [],
   "source": [
    "# be_consump = df[(df[\"country\"] == 'Belgium') & (df[\"activity_group\"] == 'consumption')].iloc[:,-1]\n",
    "# be_fuel = df[(df[\"country\"] == 'Belgium') & (df[\"activity_group\"] == 'combustible_fuel')].iloc[:,-1]\n",
    "# be_energy = df[(df[\"country\"] == 'Belgium') & (df[\"activity_group\"] == 'energy')].iloc[:,-1]\n",
    "# be_ownuse = df[(df[\"country\"] == 'Belgium') & (df[\"activity_group\"] == 'ownuse')].iloc[:,-1]"
   ]
  },
  {
   "cell_type": "code",
   "execution_count": 14,
   "id": "404482cf",
   "metadata": {},
   "outputs": [],
   "source": [
    "# ru_consump = df[(df[\"country\"] == 'Russian Federation') & (df[\"activity_group\"] == 'consumption')].iloc[:,-1]\n",
    "# ru_fuel = df[(df[\"country\"] == 'Russian Federation') & (df[\"activity_group\"] == 'combustible_fuel')].iloc[:,-1]\n",
    "# ru_energy = df[(df[\"country\"] == 'Russian Federation') & (df[\"activity_group\"] == 'energy')].iloc[:,-1]\n",
    "# ru_ownuse = df[(df[\"country\"] == 'Russian Federation') & (df[\"activity_group\"] == 'ownuse')].iloc[:,-1]"
   ]
  },
  {
   "cell_type": "code",
   "execution_count": 15,
   "id": "de28a0e5",
   "metadata": {},
   "outputs": [],
   "source": [
    "# ja_consump = df[(df[\"country\"] == 'Japan') & (df[\"activity_group\"] == 'consumption')].iloc[:,-1]\n",
    "# ja_fuel = df[(df[\"country\"] == 'Japan') & (df[\"activity_group\"] == 'combustible_fuel')].iloc[:,-1]\n",
    "# ja_energy = df[(df[\"country\"] == 'Japan') & (df[\"activity_group\"] == 'energy')].iloc[:,-1]\n",
    "# ja_ownuse = df[(df[\"country\"] == 'Japan') & (df[\"activity_group\"] == 'ownuse')].iloc[:,-1]"
   ]
  },
  {
   "cell_type": "code",
   "execution_count": 16,
   "id": "c3017323",
   "metadata": {},
   "outputs": [],
   "source": [
    "# Stationality Test\n",
    "# from statsmodels.tsa.stattools import adfuller\n",
    "# def ad_test(dataset):\n",
    "#     dftest = adfuller(dataset, autolag='AIC')\n",
    "#     print(dftest[1])\n",
    "# ad_test(X_train)"
   ]
  },
  {
   "cell_type": "code",
   "execution_count": 17,
   "id": "e8b794dd",
   "metadata": {},
   "outputs": [],
   "source": [
    "### ARIMA\n",
    "# from pmdarima import auto_arima\n",
    "# stepwise_fit = auto_arima(X_train, trace=True, suppress_warnings=True)\n",
    "# stepwise_fit.summary()"
   ]
  },
  {
   "cell_type": "code",
   "execution_count": 18,
   "id": "121e083b",
   "metadata": {},
   "outputs": [],
   "source": [
    "# import statsmodels.api as sm\n",
    "# model = sm.tsa.arima.ARIMA(X_train, order = (1,1,1))\n",
    "# model = model.fit()\n",
    "# model.summary()\n",
    "# pred = model.predict(start='2020-01-01', end = '2025-01-01')\n",
    "# pred"
   ]
  },
  {
   "cell_type": "code",
   "execution_count": 19,
   "id": "ce7db2e7",
   "metadata": {},
   "outputs": [
    {
     "data": {
      "text/plain": [
       "combustible_fuel    100\n",
       "consumption         100\n",
       "energy              100\n",
       "ownuse              100\n",
       "Name: activity_group, dtype: int64"
      ]
     },
     "execution_count": 19,
     "metadata": {},
     "output_type": "execute_result"
    }
   ],
   "source": [
    "df['country'].value_counts(sort=False)\n",
    "df['activity_group'].value_counts(sort=False)"
   ]
  },
  {
   "cell_type": "code",
   "execution_count": 20,
   "id": "b165c9d8",
   "metadata": {},
   "outputs": [
    {
     "data": {
      "text/html": [
       "<div>\n",
       "<style scoped>\n",
       "    .dataframe tbody tr th:only-of-type {\n",
       "        vertical-align: middle;\n",
       "    }\n",
       "\n",
       "    .dataframe tbody tr th {\n",
       "        vertical-align: top;\n",
       "    }\n",
       "\n",
       "    .dataframe thead th {\n",
       "        text-align: right;\n",
       "    }\n",
       "</style>\n",
       "<table border=\"1\" class=\"dataframe\">\n",
       "  <thead>\n",
       "    <tr style=\"text-align: right;\">\n",
       "      <th></th>\n",
       "      <th>country</th>\n",
       "      <th>activity</th>\n",
       "    </tr>\n",
       "  </thead>\n",
       "  <tbody>\n",
       "    <tr>\n",
       "      <th>0</th>\n",
       "      <td>1</td>\n",
       "      <td>0</td>\n",
       "    </tr>\n",
       "    <tr>\n",
       "      <th>1</th>\n",
       "      <td>1</td>\n",
       "      <td>0</td>\n",
       "    </tr>\n",
       "    <tr>\n",
       "      <th>2</th>\n",
       "      <td>1</td>\n",
       "      <td>0</td>\n",
       "    </tr>\n",
       "    <tr>\n",
       "      <th>3</th>\n",
       "      <td>1</td>\n",
       "      <td>0</td>\n",
       "    </tr>\n",
       "    <tr>\n",
       "      <th>4</th>\n",
       "      <td>1</td>\n",
       "      <td>0</td>\n",
       "    </tr>\n",
       "    <tr>\n",
       "      <th>...</th>\n",
       "      <td>...</td>\n",
       "      <td>...</td>\n",
       "    </tr>\n",
       "    <tr>\n",
       "      <th>395</th>\n",
       "      <td>0</td>\n",
       "      <td>3</td>\n",
       "    </tr>\n",
       "    <tr>\n",
       "      <th>396</th>\n",
       "      <td>0</td>\n",
       "      <td>3</td>\n",
       "    </tr>\n",
       "    <tr>\n",
       "      <th>397</th>\n",
       "      <td>0</td>\n",
       "      <td>3</td>\n",
       "    </tr>\n",
       "    <tr>\n",
       "      <th>398</th>\n",
       "      <td>0</td>\n",
       "      <td>3</td>\n",
       "    </tr>\n",
       "    <tr>\n",
       "      <th>399</th>\n",
       "      <td>0</td>\n",
       "      <td>3</td>\n",
       "    </tr>\n",
       "  </tbody>\n",
       "</table>\n",
       "<p>400 rows × 2 columns</p>\n",
       "</div>"
      ],
      "text/plain": [
       "     country  activity\n",
       "0          1         0\n",
       "1          1         0\n",
       "2          1         0\n",
       "3          1         0\n",
       "4          1         0\n",
       "..       ...       ...\n",
       "395        0         3\n",
       "396        0         3\n",
       "397        0         3\n",
       "398        0         3\n",
       "399        0         3\n",
       "\n",
       "[400 rows x 2 columns]"
      ]
     },
     "execution_count": 20,
     "metadata": {},
     "output_type": "execute_result"
    }
   ],
   "source": [
    "#### Regression Model \n",
    "from sklearn.preprocessing import OneHotEncoder\n",
    "df.columns\n",
    "# ohe = OneHotEncoder()\n",
    "# country_std = pd.DataFrame(ohe.fit_transform(df[['country']]).toarray())\n",
    "# type_std = pd.DataFrame(ohe.fit_transform(df[['activity_group']]).toarray())\n",
    "# cat_var = pd.concat([country_std,type_std],axis = 1)\n",
    "# cat_var.columns = [\"country_us\",\"country_be\",\"country_ru\",\"country_ja\",\"fuel\",\"consumption\",\"energy\",\"ownuse\"]\n",
    "# cat_var\n",
    "def country_groups(series):\n",
    "    if series == 'United States':\n",
    "        return 0\n",
    "    elif series == 'Belgium':\n",
    "        return 1\n",
    "    elif series == 'Russian Federation':\n",
    "        return 2\n",
    "    elif series == 'Japan':\n",
    "        return 3\n",
    "df['country_recode'] = df['country'].apply(country_groups)\n",
    "df['country_recode'].value_counts(sort=False)\n",
    "\n",
    "\n",
    "def activity_groups(series):\n",
    "    if series == 'combustible_fuel':\n",
    "        return 0\n",
    "    elif series == 'consumption':\n",
    "        return 1\n",
    "    elif series == 'energy':\n",
    "        return 2\n",
    "    elif series == 'ownuse':\n",
    "        return 3\n",
    "df['activity_recode'] = df['activity_group'].apply(activity_groups)\n",
    "df['activity_recode'].value_counts(sort=False)\n",
    "\n",
    "cat_var = pd.concat([df['country_recode'],df['activity_recode']],axis = 1)\n",
    "cat_var.columns = ['country','activity']\n",
    "cat_var"
   ]
  },
  {
   "cell_type": "code",
   "execution_count": 22,
   "id": "f5956437",
   "metadata": {},
   "outputs": [
    {
     "name": "stdout",
     "output_type": "stream",
     "text": [
      "[ 489934.50091637 -658270.44407701]\n",
      "1890052.2969689632\n",
      "0.05\n",
      "8981323164932.96\n"
     ]
    },
    {
     "data": {
      "text/plain": [
       "(268, 2)"
      ]
     },
     "execution_count": 22,
     "metadata": {},
     "output_type": "execute_result"
    }
   ],
   "source": [
    "from sklearn.metrics import mean_squared_error, r2_score\n",
    "from sklearn import linear_model\n",
    "\n",
    "model = linear_model.LinearRegression()\n",
    "\n",
    "X = cat_var\n",
    "y = df['quantity']\n",
    "\n",
    "from sklearn.model_selection import train_test_split\n",
    "X_train, X_test, y_train, y_test = train_test_split(X, y, test_size = 0.33, random_state=42, shuffle = True)\n",
    "model.fit(x_train, y_train)\n",
    "print(model.coef_)\n",
    "print(model.intercept_)\n",
    "\n",
    "pred = model.predict(x_test)\n",
    "\n",
    "score1 = r2_score(y_test, pred)\n",
    "print(round(score1,2))\n",
    "\n",
    "# Score Method 2 (sklearn)\n",
    "score2 = mean_squared_error(y_test, pred)\n",
    "print(round(score2,2))\n",
    "\n",
    "X_train.shape"
   ]
  },
  {
   "cell_type": "code",
   "execution_count": 23,
   "id": "dce420e2",
   "metadata": {},
   "outputs": [
    {
     "data": {
      "text/plain": [
       "['model.pkl']"
      ]
     },
     "execution_count": 23,
     "metadata": {},
     "output_type": "execute_result"
    }
   ],
   "source": [
    "import joblib    \n",
    "joblib.dump(model, 'model.pkl')"
   ]
  },
  {
   "cell_type": "code",
   "execution_count": null,
   "id": "6b53bc41",
   "metadata": {},
   "outputs": [],
   "source": [
    "## NORMALIZE DATA\n",
    "# def normalize (df):\n",
    "#     mean = df.mean()\n",
    "#     std = df.std()\n",
    "#     df_norm = (df - mean) /std\n",
    "#     return df_norm"
   ]
  },
  {
   "cell_type": "code",
   "execution_count": null,
   "id": "1bb43a5c",
   "metadata": {},
   "outputs": [],
   "source": [
    "# us1 = normalize(us_consump)\n",
    "# us2 = normalize(us_fuel)\n",
    "# us3 = normalize(us_energy)\n",
    "# us4 = normalize(us_ownuse)\n",
    "\n",
    "# be1 = normalize(be_consump)\n",
    "# be2 = normalize(be_fuel)\n",
    "# be3 = normalize(be_energy)\n",
    "# be4 = normalize(be_ownuse)\n",
    "\n",
    "# ru1 = normalize(ru_consump)\n",
    "# ru2 = normalize(ru_fuel)\n",
    "# ru3 = normalize(ru_energy)\n",
    "# ru4 = normalize(ru_ownuse)\n",
    "\n",
    "# ja1 = normalize(ja_consump)\n",
    "# ja2 = normalize(ja_fuel)\n",
    "# ja3 = normalize(ja_energy)\n",
    "# ja4 = normalize(ja_ownuse)\n"
   ]
  },
  {
   "cell_type": "code",
   "execution_count": null,
   "id": "54987b08",
   "metadata": {},
   "outputs": [],
   "source": [
    "# Get X and Y for 16 models\n",
    "\n",
    "# def df_x_y (df, window_size=1):\n",
    "#     df_as_np = df.to_numpy()\n",
    "#     X = []\n",
    "#     y = []\n",
    "#     for i in range(len(df_as_np)- window_size):\n",
    "#         row = [[a] for a in df_as_np[i:i+1]]\n",
    "#         X.append(row)\n",
    "#         label = df_as_np[i+1]\n",
    "#         y.append(label)\n",
    "#     return np.array(X), np.array(y)"
   ]
  },
  {
   "cell_type": "code",
   "execution_count": null,
   "id": "66c05e20",
   "metadata": {},
   "outputs": [],
   "source": [
    "# window_size=1\n",
    "# X1,y1 = df_x_y(us1, window_size)\n",
    "# X2,y2 = df_x_y(us2, window_size)\n",
    "# X3,y3 = df_x_y(us3, window_size)\n",
    "# X4,y4 = df_x_y(us4, window_size)\n",
    "\n",
    "# X5,y5 = df_x_y(be1, window_size)\n",
    "# X6,y6 = df_x_y(be2, window_size)\n",
    "# X7,y7 = df_x_y(be3, window_size)\n",
    "# X8,y8 = df_x_y(be4, window_size)\n",
    "\n",
    "# X9,y9 = df_x_y(ru1, window_size)\n",
    "# X10,y10 = df_x_y(ru2, window_size)\n",
    "# X11,y11 = df_x_y(ru3, window_size)\n",
    "# X12,y12= df_x_y(ru4, window_size)\n",
    "\n",
    "# X13,y13 = df_x_y(ja1, window_size)\n",
    "# X14,y14 = df_x_y(ja2, window_size)\n",
    "# X15,y15 = df_x_y(ja3, window_size)\n",
    "# X16,y16= df_x_y(ja4, window_size)\n",
    "\n",
    "# X1.shape, y1.shape"
   ]
  },
  {
   "cell_type": "code",
   "execution_count": null,
   "id": "5be3f958",
   "metadata": {},
   "outputs": [],
   "source": [
    "# from tensorflow.keras.models import Sequential\n",
    "# from tensorflow.keras.layers import *\n",
    "# from tensorflow.keras.losses import MeanSquaredError\n",
    "# from tensorflow.keras.callbacks import ModelCheckpoint\n",
    "# from tensorflow.keras.metrics import RootMeanSquaredError\n",
    "# from tensorflow.keras.optimizers import Adam\n",
    "# from tensorflow.keras import Model, regularizers\n",
    "\n",
    "# model_1 = Sequential()\n",
    "# model_1.add(InputLayer((window_size,1)))\n",
    "# model_1.add(LSTM(64))\n",
    "# model_1.add(Dropout(0.5))\n",
    "# model_1.add(Dense(20, \"relu\", regularizers.L1L2(l1=1e-5, l2=1e-4)))\n",
    "# model_1.add(Dropout(0.3))\n",
    "# model_1.add(Dense(10, \"relu\", regularizers.L1L2(l1=1e-5, l2=1e-4)))\n",
    "# model_1.add(Dropout(0.3))\n",
    "# model_1.add(Dense(1, 'linear'))\n",
    "\n",
    "# model_1.summary()\n",
    "# # cp = ModelCheckpoint('model_1/', save_best_only=True)\n",
    "# model_1.compile(loss=MeanSquaredError(), optimizer=Adam(learning_rate = 0.001), metrics= [RootMeanSquaredError()])\n",
    "# model_1.fit(X_train,y_train, epochs = 1000, verbose=1)\n",
    "# #  validation_data = (X_val, y_val),\n",
    "# pred = model_1.predict(X_train).flatten()\n",
    "# result = pd.DataFrame(data={'train_prediction': pred, 'actual' : y_train})\n",
    "# result"
   ]
  },
  {
   "cell_type": "code",
   "execution_count": null,
   "id": "09bbfa35",
   "metadata": {},
   "outputs": [],
   "source": []
  },
  {
   "cell_type": "code",
   "execution_count": null,
   "id": "864a1499",
   "metadata": {},
   "outputs": [],
   "source": []
  },
  {
   "cell_type": "code",
   "execution_count": null,
   "id": "5cb975c9",
   "metadata": {},
   "outputs": [],
   "source": []
  },
  {
   "cell_type": "code",
   "execution_count": null,
   "id": "c9be2d75",
   "metadata": {},
   "outputs": [],
   "source": []
  },
  {
   "cell_type": "code",
   "execution_count": null,
   "id": "b7e9f5ea",
   "metadata": {},
   "outputs": [],
   "source": []
  },
  {
   "cell_type": "code",
   "execution_count": null,
   "id": "7f7f874d",
   "metadata": {},
   "outputs": [],
   "source": []
  },
  {
   "cell_type": "code",
   "execution_count": null,
   "id": "530dfcfb",
   "metadata": {},
   "outputs": [],
   "source": []
  },
  {
   "cell_type": "code",
   "execution_count": null,
   "id": "d2487704",
   "metadata": {},
   "outputs": [],
   "source": []
  },
  {
   "cell_type": "code",
   "execution_count": null,
   "id": "bc7eefad",
   "metadata": {},
   "outputs": [],
   "source": []
  },
  {
   "cell_type": "code",
   "execution_count": null,
   "id": "3dd29a75",
   "metadata": {},
   "outputs": [],
   "source": []
  },
  {
   "cell_type": "code",
   "execution_count": null,
   "id": "fb16d122",
   "metadata": {},
   "outputs": [],
   "source": []
  },
  {
   "cell_type": "code",
   "execution_count": null,
   "id": "aed1c1f9",
   "metadata": {},
   "outputs": [],
   "source": []
  },
  {
   "cell_type": "code",
   "execution_count": null,
   "id": "8ca56d21",
   "metadata": {},
   "outputs": [],
   "source": []
  },
  {
   "cell_type": "code",
   "execution_count": null,
   "id": "bb2498f8",
   "metadata": {},
   "outputs": [],
   "source": []
  },
  {
   "cell_type": "code",
   "execution_count": null,
   "id": "6156bf76",
   "metadata": {},
   "outputs": [],
   "source": []
  },
  {
   "cell_type": "code",
   "execution_count": null,
   "id": "bfa2f62d",
   "metadata": {},
   "outputs": [],
   "source": []
  },
  {
   "cell_type": "code",
   "execution_count": null,
   "id": "7bc8c8f1",
   "metadata": {},
   "outputs": [],
   "source": []
  },
  {
   "cell_type": "code",
   "execution_count": null,
   "id": "02bb2e71",
   "metadata": {},
   "outputs": [],
   "source": []
  },
  {
   "cell_type": "code",
   "execution_count": null,
   "id": "f0d9aaee",
   "metadata": {},
   "outputs": [],
   "source": []
  },
  {
   "cell_type": "code",
   "execution_count": null,
   "id": "ec2f5a06",
   "metadata": {},
   "outputs": [],
   "source": []
  },
  {
   "cell_type": "code",
   "execution_count": null,
   "id": "ad32f7cf",
   "metadata": {},
   "outputs": [],
   "source": []
  },
  {
   "cell_type": "code",
   "execution_count": null,
   "id": "6ad285e0",
   "metadata": {},
   "outputs": [],
   "source": []
  },
  {
   "cell_type": "code",
   "execution_count": null,
   "id": "a1054d7a",
   "metadata": {},
   "outputs": [],
   "source": []
  },
  {
   "cell_type": "code",
   "execution_count": null,
   "id": "3c4ab886",
   "metadata": {},
   "outputs": [],
   "source": []
  }
 ],
 "metadata": {
  "kernelspec": {
   "display_name": "Python 3 (ipykernel)",
   "language": "python",
   "name": "python3"
  },
  "language_info": {
   "codemirror_mode": {
    "name": "ipython",
    "version": 3
   },
   "file_extension": ".py",
   "mimetype": "text/x-python",
   "name": "python",
   "nbconvert_exporter": "python",
   "pygments_lexer": "ipython3",
   "version": "3.9.12"
  }
 },
 "nbformat": 4,
 "nbformat_minor": 5
}
